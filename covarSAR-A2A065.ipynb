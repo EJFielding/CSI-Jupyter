{
 "cells": [
  {
   "cell_type": "code",
   "execution_count": 1,
   "id": "affecting-percentage",
   "metadata": {},
   "outputs": [],
   "source": [
    "# External libraries\n",
    "import numpy as np\n",
    "import matplotlib.pyplot as plt\n",
    "import sys\n",
    "import os\n",
    "import requests\n",
    "\n",
    "# helpful check routine\n",
    "def is_downloadable(url):\n",
    "    \"\"\"\n",
    "    Does the url contain a downloadable resource\n",
    "    \"\"\"\n",
    "    h = requests.head(url, allow_redirects=True)\n",
    "    header = h.headers\n",
    "    content_type = header.get('content-type')\n",
    "    if 'text' in content_type.lower():\n",
    "        return False\n",
    "    if 'html' in content_type.lower():\n",
    "        return False\n",
    "    return True"
   ]
  },
  {
   "cell_type": "code",
   "execution_count": 2,
   "id": "asian-frame",
   "metadata": {},
   "outputs": [],
   "source": [
    "# CSI routines\n",
    "import csi.planarfault as pf\n",
    "import csi.gps as gr\n",
    "import csi.insar as insar\n",
    "import csi.geodeticplot as geoplt\n",
    "import csi.seismiclocations as sl\n",
    "import csi.imagedownsampling as down\n",
    "import csi.fault3D as flt3D\n",
    "import csi.faultwithvaryingdip as flt\n",
    "import csi.verticalfault as verticalfault\n",
    "#import csi.cosicorrrates as cr\n",
    "import csi.imagecovariance as imcov\n"
   ]
  },
  {
   "cell_type": "code",
   "execution_count": 3,
   "id": "received-spiritual",
   "metadata": {},
   "outputs": [],
   "source": [
    "# set some flags\n",
    "input_check = True\n",
    "do_downsample = False\n",
    "output_check = False"
   ]
  },
  {
   "cell_type": "markdown",
   "id": "developed-fence",
   "metadata": {},
   "source": [
    "CSI does most computations in a local Cartesian coordinate system. It presently supports only UTM projections, so we need to set the zone to use."
   ]
  },
  {
   "cell_type": "code",
   "execution_count": 4,
   "id": "abstract-tanzania",
   "metadata": {},
   "outputs": [],
   "source": [
    "# UTM zone 11 for eastern California\n",
    "utmzone = 11"
   ]
  },
  {
   "cell_type": "markdown",
   "id": "fatal-japan",
   "metadata": {},
   "source": [
    "For this example, we will use an InSAR dataset for the 2019 Ridgecrest earthquake, published online at the Harvard Dataverse:\n",
    "\n",
    "Fielding, Eric Jameson, 2019, \"Replication Data for: Surface deformation related to the 2019 Mw 7.1 and Mw 6.4 Ridgecrest Earthquakes in California from GPS, SAR interferometry, and SAR pixel offsets\", https://doi.org/10.7910/DVN/JL9YMS, Harvard Dataverse, V2\n",
    "\n",
    "The dataset we will start with is the ALOS-2 interferogram from ascending track 65. We set the output name for the dataset."
   ]
  },
  {
   "cell_type": "code",
   "execution_count": 5,
   "id": "stuffed-capital",
   "metadata": {},
   "outputs": [],
   "source": [
    "# set the output name root\n",
    "outName = 'A2A065'  # ALOS-2 Ascending track 65"
   ]
  },
  {
   "cell_type": "markdown",
   "id": "prime-momentum",
   "metadata": {},
   "source": [
    "We use the masked range-change file to avoid using data from areas with low coherence that is less reliable. We can use the `requests` library to download the file to the local directory from Python (or you could click on the links at the main URL above which is faster). The code below will download the file if it does not already exist in the directory."
   ]
  },
  {
   "cell_type": "code",
   "execution_count": 6,
   "id": "streaming-success",
   "metadata": {},
   "outputs": [],
   "source": [
    "# range-change file name locally\n",
    "a65_rng='ALOS2_A065_20180416-20190708_masked_range_change_m.grd'\n",
    "if os.path.exists(a65_rng) == False:   # if the file not here yet\n",
    "    # store direct download url of range-change dataset\n",
    "    url='https://dataverse.harvard.edu/api/access/datafile/:persistentId?persistentId=doi:10.7910/DVN/JL9YMS/PUWBZX'\n",
    "    if is_downloadable(url): # does URL point to a file?\n",
    "        # Download data into a requests variable with the above url\n",
    "        r = requests.get(url, allow_redirects=True)\n",
    "        # Write the content of above request variable to the file name\n",
    "        open(a65_rng, 'wb').write(r.content)\n"
   ]
  },
  {
   "cell_type": "markdown",
   "id": "acknowledged-document",
   "metadata": {},
   "source": [
    "We also need the three components of the line-of-sight (LOS) vector: East, North, and Up."
   ]
  },
  {
   "cell_type": "code",
   "execution_count": 7,
   "id": "fabulous-attribute",
   "metadata": {},
   "outputs": [],
   "source": [
    "# East file name locally\n",
    "a65_east='ALOS2_A065_20180416-20190708_east_1asec.grd'\n",
    "if os.path.exists(a65_east) == False:   # if the file not here yet\n",
    "    # store direct download url of East dataset\n",
    "    url='https://dataverse.harvard.edu/api/access/datafile/:persistentId?persistentId=doi:10.7910/DVN/JL9YMS/CFBGNV'\n",
    "    # Download data into a requests variable with the above url\n",
    "    r = requests.get(url, allow_redirects=True)\n",
    "    # We are writing the content of above request to the file name\n",
    "    open(a65_east, 'wb').write(r.content)\n",
    "\n",
    "# North file name locally\n",
    "a65_north='ALOS2_A065_20180416-20190708_north_1asec.grd'\n",
    "if os.path.exists(a65_north) == False:   # if the file not here yet\n",
    "    # url of North dataset\n",
    "    url='https://dataverse.harvard.edu/api/access/datafile/:persistentId?persistentId=doi:10.7910/DVN/JL9YMS/PBIERE'\n",
    "    # Download data into a requests variable with the above url\n",
    "    r = requests.get(url, allow_redirects=True)\n",
    "    # Write the content of above request variable to the file name\n",
    "    open(a65_north, 'wb').write(r.content)\n",
    "\n",
    "# Up file name locally\n",
    "a65_up='ALOS2_A065_20180416-20190708_up_1asec.grd'\n",
    "if os.path.exists(a65_north) == False:   # if the file not here yet\n",
    "    # url of North dataset\n",
    "    url='https://dataverse.harvard.edu/api/access/datafile/:persistentId?persistentId=doi:10.7910/DVN/JL9YMS/YDEEMX'\n",
    "    # Download data into a requests variable with the above url\n",
    "    r = requests.get(url, allow_redirects=True)\n",
    "    # Write the content of above request variable to the file name\n",
    "    open(a65_up, 'wb').write(r.content)\n"
   ]
  },
  {
   "cell_type": "markdown",
   "id": "legislative-hospital",
   "metadata": {},
   "source": [
    "Now we are ready to create a CSI InSAR object with this dataset."
   ]
  },
  {
   "cell_type": "code",
   "execution_count": 9,
   "id": "resistant-dakota",
   "metadata": {},
   "outputs": [
    {
     "name": "stdout",
     "output_type": "stream",
     "text": [
      "---------------------------------\n",
      "---------------------------------\n",
      "Initialize InSAR data set A2_A065_coseismic\n",
      "reading from GMT grd files ALOS2_A065_20180416-20190708_masked_range_change_m.grd\n",
      "Read from file ALOS2_A065_20180416-20190708_masked_range_change_m.grd into data set A2_A065_coseismic\n"
     ]
    }
   ],
   "source": [
    "# Instantiate a insar object\n",
    "sar = insar('A2_A065_coseismic', utmzone=utmzone)\n",
    "print ('reading from GMT grd files',a65_rng) # print is a little redundant\n",
    "sar.read_from_grd( a65_rng, los=[a65_east, a65_north, a65_up])\n"
   ]
  },
  {
   "cell_type": "markdown",
   "id": "marine-shame",
   "metadata": {},
   "source": [
    "Check the dataset for NaN (no data in GMT) pixels and remove them."
   ]
  },
  {
   "cell_type": "code",
   "execution_count": 10,
   "id": "collaborative-jacksonville",
   "metadata": {},
   "outputs": [],
   "source": [
    "# clean out NaNs if present\n",
    "sar.checkNaNs()\n"
   ]
  },
  {
   "cell_type": "markdown",
   "id": "prospective-arkansas",
   "metadata": {},
   "source": [
    "We can use the `plot` method of the InSAR class to plot the dataset and check that it was read correctly. The `input_check` flag above controls whether this is done. This step can take a while for large images. The `norm` parameter controls the color scale."
   ]
  },
  {
   "cell_type": "code",
   "execution_count": 11,
   "id": "military-tobago",
   "metadata": {},
   "outputs": [
    {
     "name": "stderr",
     "output_type": "stream",
     "text": [
      "/opt/local/Library/Frameworks/Python.framework/Versions/3.7/lib/python3.7/site-packages/shapefile.py:391: UserWarning: Shapefile shape has invalid polygon: no exterior rings found (must have clockwise orientation); interpreting holes as exteriors.\n",
      "  warnings.warn('Shapefile shape has invalid polygon: no exterior rings found (must have clockwise orientation); interpreting holes as exteriors.')\n"
     ]
    },
    {
     "data": {
      "image/png": "[encoded data removed]",
      "text/plain": [
       "<Figure size 432x288 with 2 Axes>"
      ]
     },
     "metadata": {
      "needs_background": "light"
     },
     "output_type": "display_data"
    }
   ],
   "source": [
    "# check data read in if flag set\n",
    "if input_check:\n",
    "    sar.plot(faults=None,figure=127,norm=[-0.5,0.5])"
   ]
  },
  {
   "cell_type": "markdown",
   "id": "eligible-necessity",
   "metadata": {},
   "source": [
    "Now we can estimate the covariance of the dataset using the semivariogram method. First we create a image covariance object from the InSAR object."
   ]
  },
  {
   "cell_type": "code",
   "execution_count": 12,
   "id": "excellent-birth",
   "metadata": {},
   "outputs": [
    {
     "name": "stdout",
     "output_type": "stream",
     "text": [
      "---------------------------------\n",
      "---------------------------------\n",
      "Initialize InSAR covariance tools Covariance estimator\n"
     ]
    }
   ],
   "source": [
    "# Covariance first estimate on original data\n",
    "covar = imcov('Covariance estimator',sar, verbose=True)"
   ]
  },
  {
   "cell_type": "markdown",
   "id": "computational-hamburg",
   "metadata": {},
   "source": [
    "We will mask out the area close to the main rupture to look at the rest of the scene."
   ]
  },
  {
   "cell_type": "code",
   "execution_count": 13,
   "id": "whole-sitting",
   "metadata": {},
   "outputs": [
    {
     "name": "stdout",
     "output_type": "stream",
     "text": [
      "Masking data set Covariance estimator\n",
      "     Mask: -118.0 <= Lon <= -117.25 || 35.55 <= Lat <= 35.95\n"
     ]
    }
   ],
   "source": [
    "# mask out high deformation above earthquake rupture\n",
    "covar.maskOut([[-118.0, -117.25, 35.55, 35.95]])"
   ]
  },
  {
   "cell_type": "markdown",
   "id": "strategic-sensitivity",
   "metadata": {},
   "source": [
    "We use the `computeCovariance` method to sample the dataset with a random set on 0.002 of the pixels, estimate and remove a ramp, calculate the semivariogram at distances of every 2 km out to 100 km, convert the semivariogram to covariance, and estimate a fit of an exponential function vs. distance."
   ]
  },
  {
   "cell_type": "code",
   "execution_count": 14,
   "id": "certified-quantum",
   "metadata": {},
   "outputs": [
    {
     "name": "stdout",
     "output_type": "stream",
     "text": [
      "Computing covariograms\n",
      "Computing 1-D empirical semivariogram function for data set Covariance estimator\n",
      "Selecting 16028 random samples to estimate the covariance function\n",
      "Estimated Orbital Plane: -3.4665518852367864e-05xy + 0.13375223760488297x + 0.01550056454564969y + -59.674849380877234\n",
      "Build the permutations\n",
      "Digitize the histogram\n",
      "Fitting Covariance functions\n",
      "Dataset Covariance estimator:\n",
      "A prior values: Sill | Sigma | Lambda\n",
      "                 0.000850 | 0.004217 | 39.788291\n",
      "Dataset Covariance estimator:\n",
      "     Sill   :  0.00039557243022636426\n",
      "     Sigma  :  0.07061470016722794\n",
      "     Lambda :  39.78829171795961\n"
     ]
    }
   ],
   "source": [
    "covar.computeCovariance(function='exp', frac=0.002, every=2.0, distmax=100., rampEst=True)"
   ]
  },
  {
   "cell_type": "markdown",
   "id": "bridal-globe",
   "metadata": {},
   "source": [
    "Now we can plot the results with the `plot` method."
   ]
  },
  {
   "cell_type": "code",
   "execution_count": 15,
   "id": "stylish-circulation",
   "metadata": {},
   "outputs": [
    {
     "data": {
      "image/png": "[encoded data removed]",
      "text/plain": [
       "<Figure size 432x288 with 1 Axes>"
      ]
     },
     "metadata": {
      "needs_background": "light"
     },
     "output_type": "display_data"
    }
   ],
   "source": [
    "covar.plot(data='all')"
   ]
  },
  {
   "cell_type": "markdown",
   "id": "swedish-rapid",
   "metadata": {},
   "source": [
    "Save the exponential fit to a file with the default output name `Covariance_estimator.cov` for use in estimating the data covariance of downsampled data."
   ]
  },
  {
   "cell_type": "code",
   "execution_count": 16,
   "id": "minimal-withdrawal",
   "metadata": {},
   "outputs": [
    {
     "name": "stdout",
     "output_type": "stream",
     "text": [
      "writing covariance output for Covariance estimator\n"
     ]
    }
   ],
   "source": [
    "covar.write2file(savedir='./')"
   ]
  },
  {
   "cell_type": "code",
   "execution_count": null,
   "id": "reduced-price",
   "metadata": {},
   "outputs": [],
   "source": []
  }
 ],
 "metadata": {
  "kernelspec": {
   "display_name": "Python 3",
   "language": "python",
   "name": "python3"
  },
  "language_info": {
   "codemirror_mode": {
    "name": "ipython",
    "version": 3
   },
   "file_extension": ".py",
   "mimetype": "text/x-python",
   "name": "python",
   "nbconvert_exporter": "python",
   "pygments_lexer": "ipython3",
   "version": "3.7.10"
  }
 },
 "nbformat": 4,
 "nbformat_minor": 5
}
